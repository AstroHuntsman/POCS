{
 "cells": [
  {
   "cell_type": "markdown",
   "metadata": {},
   "source": [
    "# Demonstration of control of Optex FocusLynx focusers"
   ]
  },
  {
   "cell_type": "code",
   "execution_count": 1,
   "metadata": {},
   "outputs": [],
   "source": [
    "# Load the PANOPTES module dir\n",
    "import sys\n",
    "sys.path.append('../../')"
   ]
  },
  {
   "cell_type": "code",
   "execution_count": 2,
   "metadata": {},
   "outputs": [],
   "source": [
    "import serial\n",
    "import time"
   ]
  },
  {
   "cell_type": "code",
   "execution_count": 3,
   "metadata": {},
   "outputs": [],
   "source": [
    "s = serial.Serial(port='/dev/ttyUSB0',\n",
    "                  baudrate=115200,\n",
    "                  bytesize=serial.EIGHTBITS,\n",
    "                  parity=serial.PARITY_NONE,\n",
    "                  stopbits=serial.STOPBITS_ONE,\n",
    "                  timeout=1.0)"
   ]
  },
  {
   "cell_type": "code",
   "execution_count": 4,
   "metadata": {},
   "outputs": [],
   "source": [
    "def set_led(brightness):\n",
    "    s.reset_output_buffer()\n",
    "    s.reset_input_buffer()\n",
    "    message = '<FHSCLB{:03d}>'.format(brightness)\n",
    "    wrote = s.write(message.encode('ascii'))\n",
    "    response = tuple(str(line, encoding='ascii').strip() for line in s.readlines(2))\n",
    "    print('Wrote {} ({} bytes), got response: {}'.format(message,\n",
    "                                                         wrote,\n",
    "                                                         response))"
   ]
  },
  {
   "cell_type": "code",
   "execution_count": 7,
   "metadata": {},
   "outputs": [
    {
     "name": "stdout",
     "output_type": "stream",
     "text": [
      "Wrote <FHSCLB100> (11 bytes), got response: ('!', 'SET')\n"
     ]
    }
   ],
   "source": [
    "set_led(100)"
   ]
  },
  {
   "cell_type": "code",
   "execution_count": 8,
   "metadata": {},
   "outputs": [
    {
     "data": {
      "text/plain": [
       "[b'!\\n',\n",
       " b'HUB INFO\\n',\n",
       " b'Hub FVer = 2.0.0\\n',\n",
       " b'Sleeping = 0\\n',\n",
       " b'Wired IP = 169.254.10.222\\n',\n",
       " b'DHCPisOn = 1\\n',\n",
       " b'WF Atchd = 0\\n',\n",
       " b'WF Conn  = 0\\n',\n",
       " b'WF FVer  = 0.0.0\\n',\n",
       " b'WF FV OK = 0\\n',\n",
       " b'WF SSID  = \\n',\n",
       " b'WF IP    = 0.0.0.0\\n',\n",
       " b'WF SecMd = A\\n',\n",
       " b'WF SecKy = \\n',\n",
       " b'WF WepKI = 0\\n',\n",
       " b'END\\n']"
      ]
     },
     "execution_count": 8,
     "metadata": {},
     "output_type": "execute_result"
    }
   ],
   "source": [
    "s.reset_output_buffer()\n",
    "s.reset_input_buffer()\n",
    "s.write('<FHGETHUBINFO>'.encode('ascii'))\n",
    "s.readlines(205)"
   ]
  },
  {
   "cell_type": "code",
   "execution_count": 9,
   "metadata": {},
   "outputs": [
    {
     "data": {
      "text/plain": [
       "[b'!\\n',\n",
       " b'CONFIG1\\n',\n",
       " b'Nickname = FOCUSER   #1\\n',\n",
       " b'Max Pos  = 65535\\n',\n",
       " b'Dev Typ  = FA\\n',\n",
       " b'TComp ON = 0\\n',\n",
       " b'TempCo A = +0086\\n',\n",
       " b'TempCo B = +0086\\n',\n",
       " b'TempCo C = +0086\\n',\n",
       " b'TempCo D = +0086\\n',\n",
       " b'TempCo E = +0086\\n',\n",
       " b'TC Mode  = A\\n',\n",
       " b'BLC En   = 0\\n',\n",
       " b'BLC Stps = +40\\n',\n",
       " b'LED Brt  = 100\\n',\n",
       " b'TC@Start = 0\\n',\n",
       " b'END\\n']"
      ]
     },
     "execution_count": 9,
     "metadata": {},
     "output_type": "execute_result"
    }
   ],
   "source": [
    "s.reset_output_buffer()\n",
    "s.reset_input_buffer()\n",
    "s.write('<F1GETCONFIG>'.encode('ascii'))\n",
    "s.readlines(235)"
   ]
  },
  {
   "cell_type": "code",
   "execution_count": 16,
   "metadata": {},
   "outputs": [
    {
     "data": {
      "text/plain": [
       "[b'!\\n',\n",
       " b'STATUS1\\n',\n",
       " b'Temp(C)  = +24.7\\n',\n",
       " b'Curr Pos = 12000\\n',\n",
       " b'Targ Pos = 12000\\n',\n",
       " b'IsMoving = 0\\n',\n",
       " b'IsHoming = 0\\n',\n",
       " b'IsHomed  = 1\\n',\n",
       " b'FFDetect = 0\\n',\n",
       " b'TmpProbe = 1\\n',\n",
       " b'RemoteIO = 0\\n',\n",
       " b'Hnd Ctlr = 0\\n',\n",
       " b'Reverse  = 0\\n',\n",
       " b'END\\n']"
      ]
     },
     "execution_count": 16,
     "metadata": {},
     "output_type": "execute_result"
    }
   ],
   "source": [
    "s.reset_output_buffer()\n",
    "s.reset_input_buffer()\n",
    "s.write('<F1GETSTATUS>'.encode('ascii'))\n",
    "s.readlines(165)"
   ]
  },
  {
   "cell_type": "code",
   "execution_count": 38,
   "metadata": {},
   "outputs": [
    {
     "data": {
      "text/plain": [
       "[b'!\\n', b'M\\n']"
      ]
     },
     "execution_count": 38,
     "metadata": {},
     "output_type": "execute_result"
    }
   ],
   "source": [
    "s.reset_output_buffer()\n",
    "s.reset_input_buffer()\n",
    "s.write('<F1MA{:06d}>'.format(12100).encode('ascii'))\n",
    "s.readlines(100)"
   ]
  },
  {
   "cell_type": "code",
   "execution_count": 35,
   "metadata": {},
   "outputs": [
    {
     "data": {
      "text/plain": [
       "8"
      ]
     },
     "execution_count": 35,
     "metadata": {},
     "output_type": "execute_result"
    }
   ],
   "source": [
    "s.reset_output_buffer()\n",
    "s.reset_input_buffer()\n",
    "s.write('<F1MIR0>'.encode('ascii'))"
   ]
  },
  {
   "cell_type": "code",
   "execution_count": 36,
   "metadata": {},
   "outputs": [
    {
     "data": {
      "text/plain": [
       "[b'!\\n', b'M\\n']"
      ]
     },
     "execution_count": 36,
     "metadata": {},
     "output_type": "execute_result"
    }
   ],
   "source": [
    "s.readlines(100)"
   ]
  },
  {
   "cell_type": "code",
   "execution_count": 37,
   "metadata": {},
   "outputs": [
    {
     "data": {
      "text/plain": [
       "[b'!\\n', b'STOPPED\\n']"
      ]
     },
     "execution_count": 37,
     "metadata": {},
     "output_type": "execute_result"
    }
   ],
   "source": [
    "s.write('<F1ERM>'.encode('ascii'))\n",
    "s.readlines(100)"
   ]
  },
  {
   "cell_type": "code",
   "execution_count": 17,
   "metadata": {},
   "outputs": [
    {
     "data": {
      "text/plain": [
       "[b'!\\n', b'M\\n']"
      ]
     },
     "execution_count": 17,
     "metadata": {},
     "output_type": "execute_result"
    }
   ],
   "source": [
    "s.reset_output_buffer()\n",
    "s.reset_input_buffer()\n",
    "s.write('<F1CENTER>'.encode('ascii'))\n",
    "s.readlines(100)"
   ]
  },
  {
   "cell_type": "code",
   "execution_count": 18,
   "metadata": {},
   "outputs": [
    {
     "data": {
      "text/plain": [
       "b''"
      ]
     },
     "execution_count": 18,
     "metadata": {},
     "output_type": "execute_result"
    }
   ],
   "source": [
    "s.read_all()"
   ]
  },
  {
   "cell_type": "code",
   "execution_count": 32,
   "metadata": {},
   "outputs": [
    {
     "data": {
      "text/plain": [
       "[b'!\\n',\n",
       " b'STATUS1\\n',\n",
       " b'Temp(C)  = +25.4\\n',\n",
       " b'Curr Pos = 12000\\n',\n",
       " b'Targ Pos = 12000\\n',\n",
       " b'IsMoving = 0\\n',\n",
       " b'IsHoming = 0\\n',\n",
       " b'IsHomed  = 1\\n',\n",
       " b'FFDetect = 0\\n',\n",
       " b'TmpProbe = 1\\n',\n",
       " b'RemoteIO = 0\\n',\n",
       " b'Hnd Ctlr = 0\\n',\n",
       " b'Reverse  = 0\\n',\n",
       " b'END\\n']"
      ]
     },
     "execution_count": 32,
     "metadata": {},
     "output_type": "execute_result"
    }
   ],
   "source": [
    "s.reset_output_buffer()\n",
    "s.reset_input_buffer()\n",
    "s.write('<F1GETSTATUS>'.encode('ascii'))\n",
    "s.readlines(165)"
   ]
  },
  {
   "cell_type": "code",
   "execution_count": 34,
   "metadata": {},
   "outputs": [
    {
     "data": {
      "text/plain": [
       "[b'!\\n', b'M\\n']"
      ]
     },
     "execution_count": 34,
     "metadata": {},
     "output_type": "execute_result"
    }
   ],
   "source": [
    "s.reset_output_buffer()\n",
    "s.reset_input_buffer()\n",
    "s.write('<F1MA{:06d}>'.format(25000).encode('ascii'))\n",
    "s.readlines(100)"
   ]
  },
  {
   "cell_type": "code",
   "execution_count": 31,
   "metadata": {},
   "outputs": [
    {
     "data": {
      "text/plain": [
       "[b'!\\n', b'ER=1 Unacceptable Parameter Received In Command\\n']"
      ]
     },
     "execution_count": 31,
     "metadata": {},
     "output_type": "execute_result"
    }
   ],
   "source": [
    "s.reset_output_buffer()\n",
    "s.reset_input_buffer()\n",
    "s.write('<F1HOME>'.encode('ascii'))\n",
    "s.readlines(100)"
   ]
  },
  {
   "cell_type": "code",
   "execution_count": null,
   "metadata": {},
   "outputs": [],
   "source": []
  }
 ],
 "metadata": {
  "kernelspec": {
   "display_name": "Python 3",
   "language": "python",
   "name": "python3"
  },
  "language_info": {
   "codemirror_mode": {
    "name": "ipython",
    "version": 3
   },
   "file_extension": ".py",
   "mimetype": "text/x-python",
   "name": "python",
   "nbconvert_exporter": "python",
   "pygments_lexer": "ipython3",
   "version": "3.5.2"
  }
 },
 "nbformat": 4,
 "nbformat_minor": 2
}
